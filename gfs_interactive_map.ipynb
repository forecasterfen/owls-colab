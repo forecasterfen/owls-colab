{
  "nbformat": 4,
  "nbformat_minor": 0,
  "metadata": {
    "colab": {
      "provenance": [],
      "authorship_tag": "ABX9TyNuraju8zWEm9QAd4pZ8Vx/",
      "include_colab_link": true
    },
    "kernelspec": {
      "name": "python3",
      "display_name": "Python 3"
    },
    "language_info": {
      "name": "python"
    }
  },
  "cells": [
    {
      "cell_type": "markdown",
      "metadata": {
        "id": "view-in-github",
        "colab_type": "text"
      },
      "source": [
        "<a href=\"https://colab.research.google.com/github/forecasterfen/owls-colab/blob/main/gfs_interactive_map.ipynb\" target=\"_parent\"><img src=\"https://colab.research.google.com/assets/colab-badge.svg\" alt=\"Open In Colab\"/></a>"
      ]
    },
    {
      "cell_type": "code",
      "execution_count": null,
      "metadata": {
        "id": "TQHjisXB5_e7"
      },
      "outputs": [],
      "source": [
        "!pip uninstall --yes shapely\n",
        "!apt-get install -qq libgdal-dev libgeos-dev\n",
        "!pip install shapely --no-binary shapely\n",
        "!pip install cartopy\n",
        "!pip install geoviews\n",
        "!pip install netcdf4==1.5.8\n",
        "!pip install pydap\n",
        "!pip install hvplot\n",
        "!pip install datashader"
      ]
    },
    {
      "cell_type": "code",
      "source": [
        "import geoviews as gv\n",
        "import geoviews.feature as gf\n",
        "import xarray as xr\n",
        "from cartopy import crs\n",
        "import hvplot.xarray\n",
        "\n",
        "#Ignore shapely deprecations warnings\n",
        "import warnings\n",
        "warnings.filterwarnings('ignore')\n",
        "\n",
        "url='https://thredds-jumbo.unidata.ucar.edu/thredds/dodsC/grib/NCEP/GFS/Global_0p25deg/Best'\n",
        "ds = xr.open_dataset(url)\n",
        "ds = ds.assign_coords(lon=(((ds.lon + 180) % 360) - 180)).sortby('lon')\n",
        "ds"
      ],
      "metadata": {
        "id": "TV-8nV-y6bTB"
      },
      "execution_count": null,
      "outputs": []
    },
    {
      "cell_type": "code",
      "source": [
        "gv.extension('bokeh')\n",
        "\n",
        "ds_conus = ds.sel(lon=slice(-130,-60), lat=slice(50,20)) #if you remove this and make adjustments, you can change region or do whole world.\n",
        "var = 'Geopotential_height_tropopause' #From output in cell 2, click on Data Variables, and copy and past the title of variable\n",
        "forecast = ds_conus[var].hvplot(x='lon', y='lat',cmap='rainbow', geo=True, coastline=True, rasterize=True) #cmap can be changed, possible schemes\n",
        "#avaliable on matplotlib documentation\n",
        "import geoviews.feature as gvf\n",
        "from geoviews import opts\n",
        "forecast * gvf.states(fill_alpha=0)"
      ],
      "metadata": {
        "id": "ge340PB7-Bev"
      },
      "execution_count": null,
      "outputs": []
    }
  ]
}